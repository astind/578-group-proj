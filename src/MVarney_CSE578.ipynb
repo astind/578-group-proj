{
 "cells": [
  {
   "cell_type": "code",
   "execution_count": 36,
   "metadata": {},
   "outputs": [],
   "source": [
    "import pandas as pd\n",
    "import matplotlib.pyplot as plt\n",
    "import seaborn as sns\n",
    "import numpy as np\n",
    "from sklearn import preprocessing"
   ]
  },
  {
   "cell_type": "code",
   "execution_count": 25,
   "metadata": {},
   "outputs": [
    {
     "name": "stderr",
     "output_type": "stream",
     "text": [
      "<ipython-input-25-703c29ecd616>:2: ParserWarning: Falling back to the 'python' engine because the 'c' engine does not support regex separators (separators > 1 char and different from '\\s+' are interpreted as regex); you can avoid this warning by specifying engine='python'.\n",
      "  df = pd.read_csv(filename, delimiter=', ', header=None, names = ['age', 'workclass', 'fnlwgt', 'education', 'education-num', 'marital-status', 'occupation', 'relationship',\n"
     ]
    },
    {
     "name": "stdout",
     "output_type": "stream",
     "text": [
      "   age         workclass  fnlwgt  education  education-num  \\\n",
      "0   39         State-gov   77516  Bachelors             13   \n",
      "1   50  Self-emp-not-inc   83311  Bachelors             13   \n",
      "2   38           Private  215646    HS-grad              9   \n",
      "3   53           Private  234721       11th              7   \n",
      "4   28           Private  338409  Bachelors             13   \n",
      "\n",
      "       marital-status         occupation   relationship   race     sex  \\\n",
      "0       Never-married       Adm-clerical  Not-in-family  White    Male   \n",
      "1  Married-civ-spouse    Exec-managerial        Husband  White    Male   \n",
      "2            Divorced  Handlers-cleaners  Not-in-family  White    Male   \n",
      "3  Married-civ-spouse  Handlers-cleaners        Husband  Black    Male   \n",
      "4  Married-civ-spouse     Prof-specialty           Wife  Black  Female   \n",
      "\n",
      "   capital-gain  capital-loss  hours-per-week native-country income  \n",
      "0          2174             0              40  United-States  <=50K  \n",
      "1             0             0              13  United-States  <=50K  \n",
      "2             0             0              40  United-States  <=50K  \n",
      "3             0             0              40  United-States  <=50K  \n",
      "4             0             0              40           Cuba  <=50K  \n"
     ]
    }
   ],
   "source": [
    "filename=\"http://archive.ics.uci.edu/ml/machine-learning-databases/adult/adult.data\"\n",
    "df = pd.read_csv(filename, delimiter=', ', header=None, names = ['age', 'workclass', 'fnlwgt', 'education', 'education-num', 'marital-status', 'occupation', 'relationship',\n",
    "     'race', 'sex', 'capital-gain', 'capital-loss', 'hours-per-week', 'native-country','income'])\n",
    "print(df.head())"
   ]
  },
  {
   "cell_type": "code",
   "execution_count": 26,
   "metadata": {
    "scrolled": true
   },
   "outputs": [
    {
     "name": "stdout",
     "output_type": "stream",
     "text": [
      "                age        fnlwgt  education-num  capital-gain  capital-loss  \\\n",
      "count  32561.000000  3.256100e+04   32561.000000  32561.000000  32561.000000   \n",
      "mean      38.581647  1.897784e+05      10.080679   1077.648844     87.303830   \n",
      "std       13.640433  1.055500e+05       2.572720   7385.292085    402.960219   \n",
      "min       17.000000  1.228500e+04       1.000000      0.000000      0.000000   \n",
      "25%       28.000000  1.178270e+05       9.000000      0.000000      0.000000   \n",
      "50%       37.000000  1.783560e+05      10.000000      0.000000      0.000000   \n",
      "75%       48.000000  2.370510e+05      12.000000      0.000000      0.000000   \n",
      "max       90.000000  1.484705e+06      16.000000  99999.000000   4356.000000   \n",
      "\n",
      "       hours-per-week  \n",
      "count    32561.000000  \n",
      "mean        40.437456  \n",
      "std         12.347429  \n",
      "min          1.000000  \n",
      "25%         40.000000  \n",
      "50%         40.000000  \n",
      "75%         45.000000  \n",
      "max         99.000000  \n",
      "capital-loss\n",
      "0       31042\n",
      "155         1\n",
      "213         4\n",
      "323         3\n",
      "419         3\n",
      "        ...  \n",
      "3004        2\n",
      "3683        2\n",
      "3770        2\n",
      "3900        2\n",
      "4356        3\n",
      "Length: 92, dtype: int64\n"
     ]
    }
   ],
   "source": [
    "#Explore the data\n",
    "print(df.describe())\n",
    "print(df.groupby('capital-loss').size())"
   ]
  },
  {
   "cell_type": "code",
   "execution_count": 14,
   "metadata": {},
   "outputs": [
    {
     "name": "stdout",
     "output_type": "stream",
     "text": [
      "Total number of records: 32561\n",
      "Total number of records >50k: 7841\n",
      "Total number of armed forces spouse: 23\n",
      "Total number of spouse: 14976\n",
      "total marital : 32561\n"
     ]
    }
   ],
   "source": [
    "#Dimensionality of DataFrame\n",
    "n_records = df.shape[0]\n",
    "print(\"Total number of records: {}\".format(n_records))\n",
    "n_greater_50k = df[df['income'] == \">50K\"].shape[0]\n",
    "print(\"Total number of records >50k: {}\".format(n_greater_50k))\n",
    "\n",
    "n_armed_forces = df[df['marital-status'] == \"Married-AF-spouse\"].shape[0]\n",
    "print(\"Total number of armed forces spouse: {}\".format(n_armed_forces))\n",
    "\n",
    "n_married = df[df['marital-status'] == \"Married-civ-spouse\"].shape[0]\n",
    "print(\"Total number of spouse: {}\".format(n_married))\n",
    "\n",
    "n_marital = df['marital-status'].shape[0]\n",
    "print(\"total marital : {}\".format(n_marital))"
   ]
  },
  {
   "cell_type": "code",
   "execution_count": 27,
   "metadata": {},
   "outputs": [],
   "source": [
    "#drop occupation where unknown\n",
    "df = df[df.occupation != '?']\n",
    "df = df.drop_duplicates(keep='first')"
   ]
  },
  {
   "cell_type": "code",
   "execution_count": 19,
   "metadata": {},
   "outputs": [
    {
     "name": "stdout",
     "output_type": "stream",
     "text": [
      "age               0\n",
      "workclass         0\n",
      "fnlwgt            0\n",
      "education         0\n",
      "education-num     0\n",
      "marital-status    0\n",
      "occupation        0\n",
      "relationship      0\n",
      "race              0\n",
      "sex               0\n",
      "capital-gain      0\n",
      "capital-loss      0\n",
      "hours-per-week    0\n",
      "native-country    0\n",
      "income            0\n",
      "dtype: int64\n"
     ]
    }
   ],
   "source": [
    "#Find any Null Values\n",
    "print(df.isnull().sum(axis=0))"
   ]
  },
  {
   "cell_type": "code",
   "execution_count": 33,
   "metadata": {},
   "outputs": [
    {
     "data": {
      "image/png": "[encoded data removed]",
      "text/plain": [
       "<Figure size 432x288 with 2 Axes>"
      ]
     },
     "metadata": {
      "needs_background": "light"
     },
     "output_type": "display_data"
    }
   ],
   "source": [
    "df.hist(column='capital-loss', by='income')\n",
    "plt.suptitle(\"Capital Loss Histogram\")\n",
    "plt.title(\">50k\")\n",
    "plt.show()"
   ]
  },
  {
   "cell_type": "code",
   "execution_count": 28,
   "metadata": {},
   "outputs": [],
   "source": [
    "#convert categorical data into numerical values\n",
    "for col_name in df.columns:\n",
    "    if (df[col_name].dtype == 'object'):\n",
    "        df[col_name] = df[col_name].astype('category')\n",
    "        df[col_name] = df[col_name].cat.codes"
   ]
  },
  {
   "cell_type": "code",
   "execution_count": 29,
   "metadata": {},
   "outputs": [],
   "source": [
    "#Normalize the data\n",
    "#values now between 0 and 1\n",
    "d = preprocessing.normalize(df,axis=0)\n",
    "scaled_df = pd.DataFrame(d,columns=df.columns)\n",
    "data_normalized = preprocessing.normalize(df, norm='l1')"
   ]
  },
  {
   "cell_type": "code",
   "execution_count": 30,
   "metadata": {},
   "outputs": [
    {
     "name": "stdout",
     "output_type": "stream",
     "text": [
      "Kendall Correlation: \n",
      "                     age  workclass    fnlwgt  education  education-num  \\\n",
      "age             1.000000   0.053104 -0.052857  -0.011815       0.055764   \n",
      "workclass       0.053104   1.000000 -0.028588   0.004717       0.005752   \n",
      "fnlwgt         -0.052857  -0.028588  1.000000  -0.014354      -0.025356   \n",
      "education      -0.011815   0.004717 -0.014354   1.000000       0.189889   \n",
      "education-num   0.055764   0.005752 -0.025356   0.189889       1.000000   \n",
      "marital-status -0.294337  -0.035760  0.029145  -0.015825      -0.049154   \n",
      "occupation     -0.004333   0.008284 -0.000242  -0.032500       0.068222   \n",
      "relationship   -0.230714  -0.080668  0.009695   0.010209      -0.077004   \n",
      "race            0.019700   0.058808 -0.030635   0.006777       0.037474   \n",
      "sex             0.075753   0.091182  0.020534  -0.029864       0.001763   \n",
      "capital-gain    0.098961   0.025021 -0.006166   0.006084       0.106312   \n",
      "capital-loss    0.050225   0.005240 -0.006184   0.005811       0.065804   \n",
      "hours-per-week  0.116849   0.056881 -0.018854   0.010370       0.132923   \n",
      "native-country  0.003987  -0.004818 -0.063955   0.072868       0.043757   \n",
      "income          0.228764   0.028619 -0.008817   0.026232       0.292245   \n",
      "\n",
      "                marital-status  occupation  relationship      race       sex  \\\n",
      "age                  -0.294337   -0.004333     -0.230714  0.019700  0.075753   \n",
      "workclass            -0.035760    0.008284     -0.080668  0.058808  0.091182   \n",
      "fnlwgt                0.029145   -0.000242      0.009695 -0.030635  0.020534   \n",
      "education            -0.015825   -0.032500      0.010209  0.006777 -0.029864   \n",
      "education-num        -0.049154    0.068222     -0.077004  0.037474  0.001763   \n",
      "marital-status        1.000000    0.017533      0.270512 -0.078421 -0.135720   \n",
      "occupation            0.017533    1.000000     -0.039198 -0.000431  0.051131   \n",
      "relationship          0.270512   -0.039198      1.000000 -0.119049 -0.565958   \n",
      "race                 -0.078421   -0.000431     -0.119049  1.000000  0.097240   \n",
      "sex                  -0.135720    0.051131     -0.565958  0.097240  1.000000   \n",
      "capital-gain         -0.068480    0.013180     -0.089722  0.026078  0.066335   \n",
      "capital-loss         -0.040398    0.012111     -0.062106  0.021244  0.042351   \n",
      "hours-per-week       -0.169977    0.023122     -0.247772  0.069591  0.234659   \n",
      "native-country       -0.032075   -0.004766     -0.011327  0.170014 -0.009321   \n",
      "income               -0.215852    0.048108     -0.303408  0.079773  0.216610   \n",
      "\n",
      "                capital-gain  capital-loss  hours-per-week  native-country  \\\n",
      "age                 0.098961      0.050225        0.116849        0.003987   \n",
      "workclass           0.025021      0.005240        0.056881       -0.004818   \n",
      "fnlwgt             -0.006166     -0.006184       -0.018854       -0.063955   \n",
      "education           0.006084      0.005811        0.010370        0.072868   \n",
      "education-num       0.106312      0.065804        0.132923        0.043757   \n",
      "marital-status     -0.068480     -0.040398       -0.169977       -0.032075   \n",
      "occupation          0.013180      0.012111        0.023122       -0.004766   \n",
      "relationship       -0.089722     -0.062106       -0.247772       -0.011327   \n",
      "race                0.026078      0.021244        0.069591        0.170014   \n",
      "sex                 0.066335      0.042351        0.234659       -0.009321   \n",
      "capital-gain        1.000000     -0.065643        0.082832        0.014842   \n",
      "capital-loss       -0.065643      1.000000        0.052584        0.008322   \n",
      "hours-per-week      0.082832      0.052584        1.000000        0.013236   \n",
      "native-country      0.014842      0.008322        0.013236        1.000000   \n",
      "income              0.273311      0.139860        0.236116        0.028828   \n",
      "\n",
      "                  income  \n",
      "age             0.228764  \n",
      "workclass       0.028619  \n",
      "fnlwgt         -0.008817  \n",
      "education       0.026232  \n",
      "education-num   0.292245  \n",
      "marital-status -0.215852  \n",
      "occupation      0.048108  \n",
      "relationship   -0.303408  \n",
      "race            0.079773  \n",
      "sex             0.216610  \n",
      "capital-gain    0.273311  \n",
      "capital-loss    0.139860  \n",
      "hours-per-week  0.236116  \n",
      "native-country  0.028828  \n",
      "income          1.000000  \n"
     ]
    }
   ],
   "source": [
    "print(\"Kendall Correlation: \")\n",
    "print(scaled_df.corr(method='kendall'))"
   ]
  },
  {
   "cell_type": "code",
   "execution_count": 34,
   "metadata": {},
   "outputs": [
    {
     "name": "stdout",
     "output_type": "stream",
     "text": [
      "Total number of records with zero capital gain: 28105\n",
      "Total number of records with zero capital loss: 29233\n"
     ]
    }
   ],
   "source": [
    "n_zerogain = scaled_df[scaled_df['capital-gain'] == 0].shape[0]\n",
    "print(\"Total number of records with zero capital gain: {}\".format(n_zerogain))\n",
    "\n",
    "n_zeroloss = scaled_df[scaled_df['capital-loss'] == 0].shape[0]\n",
    "print(\"Total number of records with zero capital loss: {}\".format(n_zeroloss))"
   ]
  },
  {
   "cell_type": "code",
   "execution_count": 37,
   "metadata": {},
   "outputs": [
    {
     "data": {
      "image/png": "[encoded data removed]",
      "text/plain": [
       "<Figure size 432x288 with 2 Axes>"
      ]
     },
     "metadata": {
      "needs_background": "light"
     },
     "output_type": "display_data"
    }
   ],
   "source": [
    "#colormap to show correlation\n",
    "corr = scaled_df.corr()\n",
    "fig = plt.figure()\n",
    "ax = fig.add_subplot(111)\n",
    "cax = ax.matshow(corr, cmap='coolwarm', vmin=-1, vmax=1)\n",
    "fig.colorbar(cax)\n",
    "ticks = np.arange(0, len(scaled_df.columns), 1)\n",
    "ax.set_xticks(ticks)\n",
    "plt.xticks(rotation=90)\n",
    "ax.set_yticks(ticks)\n",
    "ax.set_xticklabels(scaled_df.columns)\n",
    "ax.set_yticklabels(scaled_df.columns)\n",
    "plt.show()"
   ]
  },
  {
   "cell_type": "code",
   "execution_count": null,
   "metadata": {},
   "outputs": [],
   "source": []
  }
 ],
 "metadata": {
  "kernelspec": {
   "display_name": "Python 3",
   "language": "python",
   "name": "python3"
  },
  "language_info": {
   "codemirror_mode": {
    "name": "ipython",
    "version": 3
   },
   "file_extension": ".py",
   "mimetype": "text/x-python",
   "name": "python",
   "nbconvert_exporter": "python",
   "pygments_lexer": "ipython3",
   "version": "3.8.5"
  }
 },
 "nbformat": 4,
 "nbformat_minor": 4
}
