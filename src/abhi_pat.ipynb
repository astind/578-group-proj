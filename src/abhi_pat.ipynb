{
 "cells": [
  {
   "cell_type": "code",
   "execution_count": 1,
   "metadata": {},
   "outputs": [],
   "source": [
    "# Imports for the file\n",
    "import numpy as np\n",
    "import pandas as pd\n",
    "import matplotlib.pyplot as plt\n",
    "import seaborn as sns\n",
    "%matplotlib inline\n",
    "\n",
    "#from sklearn.datasets import load_wine\n",
    "from sklearn import tree\n",
    "from sklearn import svm"
   ]
  },
  {
   "cell_type": "code",
   "execution_count": 2,
   "metadata": {},
   "outputs": [],
   "source": [
    "# get and format the data\n",
    "names_file = 'data/adult.names'\n",
    "names = {}\n",
    "cols = []\n",
    "with open(names_file) as f:\n",
    "    for line in f:\n",
    "        if (line[0] != '|' and line[0] != '>'):\n",
    "            d_line = line.strip()\n",
    "            if (len(d_line)):\n",
    "                ldata = d_line[:-1].split(': ')\n",
    "                p_opt = []\n",
    "                for opt in ldata[1].split(', '):\n",
    "                    p_opt.append(opt)\n",
    "                names[ldata[0]] = p_opt\n",
    "                cols.append(ldata[0])\n",
    "\n",
    "cols.append('cash')\n",
    "names['cash'] = ['>50K', '<=50K']\n",
    "df_train = pd.read_csv('data/adult.data', index_col=False, names=cols)\n",
    "df_test = pd.read_csv('data/adult.test', index_col=False, names=cols)\n",
    "\n",
    "# remove the first row on df_test (because it doesn't belong to the data)\n",
    "if (df_test['age'][0] == '|1x3 Cross validator') :\n",
    "    df_test.drop(0, inplace=True)\n",
    "\n",
    "df_train = df_train.astype({\n",
    "    'workclass': 'category',\n",
    "    'education': 'category',\n",
    "    'marital-status': 'category',\n",
    "    'occupation': 'category',\n",
    "    'relationship': 'category',\n",
    "    'race': 'category',\n",
    "    'sex': 'category',\n",
    "    'native-country': 'category',\n",
    "    'cash': 'category'\n",
    "})\n",
    "df_test = df_test.astype({\n",
    "    'workclass': 'category',\n",
    "    'education': 'category',\n",
    "    'marital-status': 'category',\n",
    "    'occupation': 'category',\n",
    "    'relationship': 'category',\n",
    "    'race': 'category',\n",
    "    'sex': 'category',\n",
    "    'native-country': 'category',\n",
    "    'cash': 'category'\n",
    "})"
   ]
  },
  {
   "cell_type": "code",
   "execution_count": 3,
   "metadata": {},
   "outputs": [
    {
     "data": {
      "text/html": [
       "<div>\n",
       "<style scoped>\n",
       "    .dataframe tbody tr th:only-of-type {\n",
       "        vertical-align: middle;\n",
       "    }\n",
       "\n",
       "    .dataframe tbody tr th {\n",
       "        vertical-align: top;\n",
       "    }\n",
       "\n",
       "    .dataframe thead th {\n",
       "        text-align: right;\n",
       "    }\n",
       "</style>\n",
       "<table border=\"1\" class=\"dataframe\">\n",
       "  <thead>\n",
       "    <tr style=\"text-align: right;\">\n",
       "      <th></th>\n",
       "      <th>age</th>\n",
       "      <th>workclass</th>\n",
       "      <th>fnlwgt</th>\n",
       "      <th>education</th>\n",
       "      <th>education-num</th>\n",
       "      <th>marital-status</th>\n",
       "      <th>occupation</th>\n",
       "      <th>relationship</th>\n",
       "      <th>race</th>\n",
       "      <th>sex</th>\n",
       "      <th>capital-gain</th>\n",
       "      <th>capital-loss</th>\n",
       "      <th>hours-per-week</th>\n",
       "      <th>native-country</th>\n",
       "      <th>cash</th>\n",
       "    </tr>\n",
       "  </thead>\n",
       "  <tbody>\n",
       "    <tr>\n",
       "      <th>1</th>\n",
       "      <td>25</td>\n",
       "      <td>Private</td>\n",
       "      <td>226802.0</td>\n",
       "      <td>11th</td>\n",
       "      <td>7.0</td>\n",
       "      <td>Never-married</td>\n",
       "      <td>Machine-op-inspct</td>\n",
       "      <td>Own-child</td>\n",
       "      <td>Black</td>\n",
       "      <td>Male</td>\n",
       "      <td>0.0</td>\n",
       "      <td>0.0</td>\n",
       "      <td>40.0</td>\n",
       "      <td>United-States</td>\n",
       "      <td>&lt;=50K.</td>\n",
       "    </tr>\n",
       "    <tr>\n",
       "      <th>2</th>\n",
       "      <td>38</td>\n",
       "      <td>Private</td>\n",
       "      <td>89814.0</td>\n",
       "      <td>HS-grad</td>\n",
       "      <td>9.0</td>\n",
       "      <td>Married-civ-spouse</td>\n",
       "      <td>Farming-fishing</td>\n",
       "      <td>Husband</td>\n",
       "      <td>White</td>\n",
       "      <td>Male</td>\n",
       "      <td>0.0</td>\n",
       "      <td>0.0</td>\n",
       "      <td>50.0</td>\n",
       "      <td>United-States</td>\n",
       "      <td>&lt;=50K.</td>\n",
       "    </tr>\n",
       "  </tbody>\n",
       "</table>\n",
       "</div>"
      ],
      "text/plain": [
       "  age workclass    fnlwgt education  education-num       marital-status  \\\n",
       "1  25   Private  226802.0      11th            7.0        Never-married   \n",
       "2  38   Private   89814.0   HS-grad            9.0   Married-civ-spouse   \n",
       "\n",
       "           occupation relationship    race    sex  capital-gain  capital-loss  \\\n",
       "1   Machine-op-inspct    Own-child   Black   Male           0.0           0.0   \n",
       "2     Farming-fishing      Husband   White   Male           0.0           0.0   \n",
       "\n",
       "   hours-per-week  native-country     cash  \n",
       "1            40.0   United-States   <=50K.  \n",
       "2            50.0   United-States   <=50K.  "
      ]
     },
     "execution_count": 3,
     "metadata": {},
     "output_type": "execute_result"
    }
   ],
   "source": [
    "df_train.head(2)\n",
    "df_test.head(2)"
   ]
  },
  {
   "cell_type": "markdown",
   "metadata": {},
   "source": [
    "SOME PRE-COMPUTATIONS"
   ]
  },
  {
   "cell_type": "code",
   "execution_count": 4,
   "metadata": {
    "scrolled": true
   },
   "outputs": [
    {
     "data": {
      "text/html": [
       "<div>\n",
       "<style scoped>\n",
       "    .dataframe tbody tr th:only-of-type {\n",
       "        vertical-align: middle;\n",
       "    }\n",
       "\n",
       "    .dataframe tbody tr th {\n",
       "        vertical-align: top;\n",
       "    }\n",
       "\n",
       "    .dataframe thead th {\n",
       "        text-align: right;\n",
       "    }\n",
       "</style>\n",
       "<table border=\"1\" class=\"dataframe\">\n",
       "  <thead>\n",
       "    <tr style=\"text-align: right;\">\n",
       "      <th></th>\n",
       "      <th>age</th>\n",
       "      <th>workclass</th>\n",
       "      <th>fnlwgt</th>\n",
       "      <th>education</th>\n",
       "      <th>education-num</th>\n",
       "      <th>marital-status</th>\n",
       "      <th>occupation</th>\n",
       "      <th>relationship</th>\n",
       "      <th>race</th>\n",
       "      <th>sex</th>\n",
       "      <th>capital-gain</th>\n",
       "      <th>capital-loss</th>\n",
       "      <th>hours-per-week</th>\n",
       "      <th>native-country</th>\n",
       "      <th>cash</th>\n",
       "      <th>slry_bool</th>\n",
       "    </tr>\n",
       "  </thead>\n",
       "  <tbody>\n",
       "    <tr>\n",
       "      <th>0</th>\n",
       "      <td>39</td>\n",
       "      <td>State-gov</td>\n",
       "      <td>77516</td>\n",
       "      <td>Bachelors</td>\n",
       "      <td>13</td>\n",
       "      <td>Never-married</td>\n",
       "      <td>Adm-clerical</td>\n",
       "      <td>Not-in-family</td>\n",
       "      <td>White</td>\n",
       "      <td>Male</td>\n",
       "      <td>2174</td>\n",
       "      <td>0</td>\n",
       "      <td>40</td>\n",
       "      <td>United-States</td>\n",
       "      <td>&lt;=50K</td>\n",
       "      <td>0</td>\n",
       "    </tr>\n",
       "    <tr>\n",
       "      <th>1</th>\n",
       "      <td>50</td>\n",
       "      <td>Self-emp-not-inc</td>\n",
       "      <td>83311</td>\n",
       "      <td>Bachelors</td>\n",
       "      <td>13</td>\n",
       "      <td>Married-civ-spouse</td>\n",
       "      <td>Exec-managerial</td>\n",
       "      <td>Husband</td>\n",
       "      <td>White</td>\n",
       "      <td>Male</td>\n",
       "      <td>0</td>\n",
       "      <td>0</td>\n",
       "      <td>13</td>\n",
       "      <td>United-States</td>\n",
       "      <td>&lt;=50K</td>\n",
       "      <td>0</td>\n",
       "    </tr>\n",
       "    <tr>\n",
       "      <th>2</th>\n",
       "      <td>38</td>\n",
       "      <td>Private</td>\n",
       "      <td>215646</td>\n",
       "      <td>HS-grad</td>\n",
       "      <td>9</td>\n",
       "      <td>Divorced</td>\n",
       "      <td>Handlers-cleaners</td>\n",
       "      <td>Not-in-family</td>\n",
       "      <td>White</td>\n",
       "      <td>Male</td>\n",
       "      <td>0</td>\n",
       "      <td>0</td>\n",
       "      <td>40</td>\n",
       "      <td>United-States</td>\n",
       "      <td>&lt;=50K</td>\n",
       "      <td>0</td>\n",
       "    </tr>\n",
       "    <tr>\n",
       "      <th>3</th>\n",
       "      <td>53</td>\n",
       "      <td>Private</td>\n",
       "      <td>234721</td>\n",
       "      <td>11th</td>\n",
       "      <td>7</td>\n",
       "      <td>Married-civ-spouse</td>\n",
       "      <td>Handlers-cleaners</td>\n",
       "      <td>Husband</td>\n",
       "      <td>Black</td>\n",
       "      <td>Male</td>\n",
       "      <td>0</td>\n",
       "      <td>0</td>\n",
       "      <td>40</td>\n",
       "      <td>United-States</td>\n",
       "      <td>&lt;=50K</td>\n",
       "      <td>0</td>\n",
       "    </tr>\n",
       "    <tr>\n",
       "      <th>4</th>\n",
       "      <td>28</td>\n",
       "      <td>Private</td>\n",
       "      <td>338409</td>\n",
       "      <td>Bachelors</td>\n",
       "      <td>13</td>\n",
       "      <td>Married-civ-spouse</td>\n",
       "      <td>Prof-specialty</td>\n",
       "      <td>Wife</td>\n",
       "      <td>Black</td>\n",
       "      <td>Female</td>\n",
       "      <td>0</td>\n",
       "      <td>0</td>\n",
       "      <td>40</td>\n",
       "      <td>Cuba</td>\n",
       "      <td>&lt;=50K</td>\n",
       "      <td>0</td>\n",
       "    </tr>\n",
       "  </tbody>\n",
       "</table>\n",
       "</div>"
      ],
      "text/plain": [
       "   age          workclass  fnlwgt   education  education-num  \\\n",
       "0   39          State-gov   77516   Bachelors             13   \n",
       "1   50   Self-emp-not-inc   83311   Bachelors             13   \n",
       "2   38            Private  215646     HS-grad              9   \n",
       "3   53            Private  234721        11th              7   \n",
       "4   28            Private  338409   Bachelors             13   \n",
       "\n",
       "        marital-status          occupation    relationship    race      sex  \\\n",
       "0        Never-married        Adm-clerical   Not-in-family   White     Male   \n",
       "1   Married-civ-spouse     Exec-managerial         Husband   White     Male   \n",
       "2             Divorced   Handlers-cleaners   Not-in-family   White     Male   \n",
       "3   Married-civ-spouse   Handlers-cleaners         Husband   Black     Male   \n",
       "4   Married-civ-spouse      Prof-specialty            Wife   Black   Female   \n",
       "\n",
       "   capital-gain  capital-loss  hours-per-week  native-country    cash  \\\n",
       "0          2174             0              40   United-States   <=50K   \n",
       "1             0             0              13   United-States   <=50K   \n",
       "2             0             0              40   United-States   <=50K   \n",
       "3             0             0              40   United-States   <=50K   \n",
       "4             0             0              40            Cuba   <=50K   \n",
       "\n",
       "   slry_bool  \n",
       "0          0  \n",
       "1          0  \n",
       "2          0  \n",
       "3          0  \n",
       "4          0  "
      ]
     },
     "execution_count": 4,
     "metadata": {},
     "output_type": "execute_result"
    }
   ],
   "source": [
    "# creating an additional column to change <=50k to 0 and >50k to 1 in salary column\n",
    "sal_cond = [\n",
    "    (df_train['cash']==' <=50K'),\n",
    "    (df_train['cash']==' >50K')\n",
    "]\n",
    "sal_vals = [0, 1]\n",
    "df_train['slry_bool'] = np.select(sal_cond, sal_vals)\n",
    "df_train.head(5)"
   ]
  },
  {
   "cell_type": "markdown",
   "metadata": {},
   "source": [
    "HOURS-PER-WEEK"
   ]
  },
  {
   "cell_type": "code",
   "execution_count": 5,
   "metadata": {},
   "outputs": [
    {
     "name": "stdout",
     "output_type": "stream",
     "text": [
      "Column counts:\n",
      "40    15217\n",
      "50     2819\n",
      "45     1824\n",
      "60     1475\n",
      "35     1297\n",
      "      ...  \n",
      "92        1\n",
      "94        1\n",
      "87        1\n",
      "74        1\n",
      "82        1\n",
      "Name: hours-per-week, Length: 94, dtype: int64\n",
      "Minimum value: 1\n",
      "Maximum value: 99\n",
      "Mean value: 40.437455852092995\n",
      "Median value: 40.0\n",
      "Mode value: 40\n"
     ]
    }
   ],
   "source": [
    "col_name = 'hours-per-week'\n",
    "col_counts = df_train[col_name].value_counts()\n",
    "col_counts_keys = col_counts.keys().tolist()\n",
    "col_counts_vals = col_counts.values.tolist()\n",
    "\n",
    "print('Column counts:\\n' + str(col_counts))\n",
    "print('Minimum value: ' + str(min(df_train[col_name])))\n",
    "print('Maximum value: ' + str(max(df_train[col_name])))\n",
    "print('Mean value: ' + str(np.mean(df_train[col_name])))\n",
    "print('Median value: ' + str(np.median(df_train[col_name])))\n",
    "print('Mode value: ' + str(str(col_counts_keys[0])))"
   ]
  },
  {
   "cell_type": "code",
   "execution_count": 6,
   "metadata": {},
   "outputs": [
    {
     "data": {
      "text/html": [
       "<div>\n",
       "<style scoped>\n",
       "    .dataframe tbody tr th:only-of-type {\n",
       "        vertical-align: middle;\n",
       "    }\n",
       "\n",
       "    .dataframe tbody tr th {\n",
       "        vertical-align: top;\n",
       "    }\n",
       "\n",
       "    .dataframe thead th {\n",
       "        text-align: right;\n",
       "    }\n",
       "</style>\n",
       "<table border=\"1\" class=\"dataframe\">\n",
       "  <thead>\n",
       "    <tr style=\"text-align: right;\">\n",
       "      <th></th>\n",
       "      <th>age</th>\n",
       "      <th>workclass</th>\n",
       "      <th>fnlwgt</th>\n",
       "      <th>education</th>\n",
       "      <th>education-num</th>\n",
       "      <th>marital-status</th>\n",
       "      <th>occupation</th>\n",
       "      <th>relationship</th>\n",
       "      <th>race</th>\n",
       "      <th>sex</th>\n",
       "      <th>capital-gain</th>\n",
       "      <th>capital-loss</th>\n",
       "      <th>hours-per-week</th>\n",
       "      <th>native-country</th>\n",
       "      <th>cash</th>\n",
       "      <th>slry_bool</th>\n",
       "      <th>hpw_catgry</th>\n",
       "    </tr>\n",
       "  </thead>\n",
       "  <tbody>\n",
       "    <tr>\n",
       "      <th>0</th>\n",
       "      <td>39</td>\n",
       "      <td>State-gov</td>\n",
       "      <td>77516</td>\n",
       "      <td>Bachelors</td>\n",
       "      <td>13</td>\n",
       "      <td>Never-married</td>\n",
       "      <td>Adm-clerical</td>\n",
       "      <td>Not-in-family</td>\n",
       "      <td>White</td>\n",
       "      <td>Male</td>\n",
       "      <td>2174</td>\n",
       "      <td>0</td>\n",
       "      <td>40</td>\n",
       "      <td>United-States</td>\n",
       "      <td>&lt;=50K</td>\n",
       "      <td>0</td>\n",
       "      <td>[1, 40]</td>\n",
       "    </tr>\n",
       "    <tr>\n",
       "      <th>1</th>\n",
       "      <td>50</td>\n",
       "      <td>Self-emp-not-inc</td>\n",
       "      <td>83311</td>\n",
       "      <td>Bachelors</td>\n",
       "      <td>13</td>\n",
       "      <td>Married-civ-spouse</td>\n",
       "      <td>Exec-managerial</td>\n",
       "      <td>Husband</td>\n",
       "      <td>White</td>\n",
       "      <td>Male</td>\n",
       "      <td>0</td>\n",
       "      <td>0</td>\n",
       "      <td>13</td>\n",
       "      <td>United-States</td>\n",
       "      <td>&lt;=50K</td>\n",
       "      <td>0</td>\n",
       "      <td>[1, 40]</td>\n",
       "    </tr>\n",
       "  </tbody>\n",
       "</table>\n",
       "</div>"
      ],
      "text/plain": [
       "   age          workclass  fnlwgt   education  education-num  \\\n",
       "0   39          State-gov   77516   Bachelors             13   \n",
       "1   50   Self-emp-not-inc   83311   Bachelors             13   \n",
       "\n",
       "        marital-status        occupation    relationship    race    sex  \\\n",
       "0        Never-married      Adm-clerical   Not-in-family   White   Male   \n",
       "1   Married-civ-spouse   Exec-managerial         Husband   White   Male   \n",
       "\n",
       "   capital-gain  capital-loss  hours-per-week  native-country    cash  \\\n",
       "0          2174             0              40   United-States   <=50K   \n",
       "1             0             0              13   United-States   <=50K   \n",
       "\n",
       "   slry_bool hpw_catgry  \n",
       "0          0    [1, 40]  \n",
       "1          0    [1, 40]  "
      ]
     },
     "execution_count": 6,
     "metadata": {},
     "output_type": "execute_result"
    }
   ],
   "source": [
    "# create a copy of the original df_train\n",
    "df_train_cpy = df_train.copy(deep=True)\n",
    "# AGE: less than 50 as 0 and greater than 50 as 1\n",
    "min_hpw = min(df_train['hours-per-week'])\n",
    "max_hpw = max(df_train['hours-per-week'])\n",
    "difference_point = 40\n",
    "hpw_cond = [\n",
    "    (df_train_cpy['hours-per-week']>=min_hpw) & (df_train_cpy['hours-per-week']<=difference_point),\n",
    "    (df_train_cpy['hours-per-week']>difference_point) & (df_train_cpy['hours-per-week']<=max_hpw)\n",
    "    ]\n",
    "hpw_vals = ['['+str(min_hpw)+', '+str(difference_point)+']', '('+str(difference_point)+', '+str(max_hpw)+']']\n",
    "\n",
    "# create a new column and use np.select to assign values to it using our lists as arguments\n",
    "df_train_cpy['hpw_catgry'] = np.select(hpw_cond, hpw_vals)\n",
    "\n",
    "# display updated DataFrame\n",
    "df_train_cpy.head(2)"
   ]
  },
  {
   "cell_type": "code",
   "execution_count": 7,
   "metadata": {},
   "outputs": [
    {
     "data": {
      "text/plain": [
       "<seaborn.axisgrid.FacetGrid at 0x1a67a3ce7c0>"
      ]
     },
     "execution_count": 7,
     "metadata": {},
     "output_type": "execute_result"
    },
    {
     "data": {
      "image/png": "[encoded data removed]",
      "text/plain": [
       "<Figure size 360x360 with 1 Axes>"
      ]
     },
     "metadata": {
      "needs_background": "light"
     },
     "output_type": "display_data"
    }
   ],
   "source": [
    "#HISTOGRAM\n",
    "sns.displot(df_train_cpy, x='hours-per-week', bins=20)"
   ]
  },
  {
   "cell_type": "code",
   "execution_count": 8,
   "metadata": {},
   "outputs": [
    {
     "data": {
      "text/plain": [
       "<seaborn.axisgrid.FacetGrid at 0x1a67a6e5a30>"
      ]
     },
     "execution_count": 8,
     "metadata": {},
     "output_type": "execute_result"
    },
    {
     "data": {
      "image/png": "[encoded data removed]",
      "text/plain": [
       "<Figure size 360x360 with 1 Axes>"
      ]
     },
     "metadata": {
      "needs_background": "light"
     },
     "output_type": "display_data"
    }
   ],
   "source": [
    "# SELECT ONLY PEOPLE WITH 40 hours per week\n",
    "df_slct_hpw = df_train_cpy[(df_train_cpy['hours-per-week'] > 0) & (df_train_cpy['hours-per-week'] < 100)]\n",
    "#df_slct_hpw = df_train_cpy[df_train_cpy['hours-per-week'] != 40]\n",
    "sns.displot(df_slct_hpw, x='cash')"
   ]
  },
  {
   "cell_type": "markdown",
   "metadata": {},
   "source": [
    "NATIVE-COUNTRY"
   ]
  },
  {
   "cell_type": "code",
   "execution_count": 9,
   "metadata": {},
   "outputs": [
    {
     "name": "stdout",
     "output_type": "stream",
     "text": [
      "Column counts:\n",
      " United-States                 29170\n",
      " Mexico                          643\n",
      " ?                               583\n",
      " Philippines                     198\n",
      " Germany                         137\n",
      " Canada                          121\n",
      " Puerto-Rico                     114\n",
      " El-Salvador                     106\n",
      " India                           100\n",
      " Cuba                             95\n",
      " England                          90\n",
      " Jamaica                          81\n",
      " South                            80\n",
      " China                            75\n",
      " Italy                            73\n",
      " Dominican-Republic               70\n",
      " Vietnam                          67\n",
      " Guatemala                        64\n",
      " Japan                            62\n",
      " Poland                           60\n",
      " Columbia                         59\n",
      " Taiwan                           51\n",
      " Haiti                            44\n",
      " Iran                             43\n",
      " Portugal                         37\n",
      " Nicaragua                        34\n",
      " Peru                             31\n",
      " Greece                           29\n",
      " France                           29\n",
      " Ecuador                          28\n",
      " Ireland                          24\n",
      " Hong                             20\n",
      " Cambodia                         19\n",
      " Trinadad&Tobago                  19\n",
      " Laos                             18\n",
      " Thailand                         18\n",
      " Yugoslavia                       16\n",
      " Outlying-US(Guam-USVI-etc)       14\n",
      " Honduras                         13\n",
      " Hungary                          13\n",
      " Scotland                         12\n",
      " Holand-Netherlands                1\n",
      "Name: native-country, dtype: int64\n",
      "Minimum count: 1\n",
      "Maximum count: 29170\n",
      "42\n"
     ]
    }
   ],
   "source": [
    "col_name = 'native-country'\n",
    "col_counts = df_train[col_name].value_counts()\n",
    "col_counts_keys = col_counts.keys().tolist()\n",
    "col_counts_vals = col_counts.values.tolist()\n",
    "\n",
    "print('Column counts:\\n' + str(col_counts))\n",
    "print('Minimum count: ' + str(min(col_counts_vals)))\n",
    "print('Maximum count: ' + str(max(col_counts_vals)))\n",
    "print(len(col_counts_keys))"
   ]
  },
  {
   "cell_type": "code",
   "execution_count": 10,
   "metadata": {},
   "outputs": [
    {
     "data": {
      "text/plain": [
       " United-States                 29170\n",
       " Mexico                          643\n",
       " ?                               583\n",
       " Philippines                     198\n",
       " Germany                         137\n",
       " Canada                          121\n",
       " Puerto-Rico                     114\n",
       " El-Salvador                     106\n",
       " India                           100\n",
       " Dominican-Republic                0\n",
       " Ecuador                           0\n",
       " Hong                              0\n",
       " Cuba                              0\n",
       " China                             0\n",
       " France                            0\n",
       " Cambodia                          0\n",
       " Columbia                          0\n",
       " Greece                            0\n",
       " Guatemala                         0\n",
       " Haiti                             0\n",
       " Holand-Netherlands                0\n",
       " Honduras                          0\n",
       " England                           0\n",
       " Yugoslavia                        0\n",
       " Hungary                           0\n",
       " Vietnam                           0\n",
       " Trinadad&Tobago                   0\n",
       " Thailand                          0\n",
       " Taiwan                            0\n",
       " South                             0\n",
       " Scotland                          0\n",
       " Portugal                          0\n",
       " Poland                            0\n",
       " Peru                              0\n",
       " Outlying-US(Guam-USVI-etc)        0\n",
       " Nicaragua                         0\n",
       " Laos                              0\n",
       " Japan                             0\n",
       " Jamaica                           0\n",
       " Italy                             0\n",
       " Ireland                           0\n",
       " Iran                              0\n",
       "Name: native-country, dtype: int64"
      ]
     },
     "execution_count": 10,
     "metadata": {},
     "output_type": "execute_result"
    }
   ],
   "source": [
    "counts = df_train[col_name].value_counts()\n",
    "filtered = counts[counts >= 100]\n",
    "df_train_10_cntries = df_train[df_train[col_name].isin(filtered.index)]\n",
    "df_train_10_cntries[col_name].value_counts()"
   ]
  },
  {
   "cell_type": "code",
   "execution_count": 11,
   "metadata": {},
   "outputs": [],
   "source": [
    "top_10_cntries = df_train[df_train[col_name]!=' ?'][col_name].value_counts()[:10].keys().tolist()\n",
    "df_train_10_cntries = pd.DataFrame(df_train[ (df_train[col_name] == top_10_cntries[0]) |\n",
    "          (df_train[col_name] == top_10_cntries[1]) |\n",
    "          (df_train[col_name] == top_10_cntries[2]) |\n",
    "          (df_train[col_name] == top_10_cntries[3]) |\n",
    "          (df_train[col_name] == top_10_cntries[4]) |\n",
    "          (df_train[col_name] == top_10_cntries[5]) |\n",
    "          (df_train[col_name] == top_10_cntries[6]) |\n",
    "          (df_train[col_name] == top_10_cntries[7]) |\n",
    "          (df_train[col_name] == top_10_cntries[8]) |\n",
    "          (df_train[col_name] == top_10_cntries[9]) ])"
   ]
  },
  {
   "cell_type": "code",
   "execution_count": 12,
   "metadata": {},
   "outputs": [
    {
     "name": "stderr",
     "output_type": "stream",
     "text": [
      "C:\\Users\\abhis\\anaconda3\\lib\\site-packages\\seaborn\\_decorators.py:36: FutureWarning: Pass the following variable as a keyword arg: x. From version 0.12, the only valid positional argument will be `data`, and passing other arguments without an explicit keyword will result in an error or misinterpretation.\n",
      "  warnings.warn(\n"
     ]
    },
    {
     "data": {
      "image/png": "[encoded data removed]",
      "text/plain": [
       "<Figure size 432x288 with 1 Axes>"
      ]
     },
     "metadata": {
      "needs_background": "light"
     },
     "output_type": "display_data"
    }
   ],
   "source": [
    "df_train_known = df_train[df_train[col_name] != ' ?']\n",
    "labels_array = df_train_known[col_name]\n",
    "sns.countplot(labels_array, order=pd.value_counts(labels_array).iloc[:5].index, data=df_train_known, hue='cash')\n",
    "plt.savefig('with_us_nat_cntry.png')"
   ]
  },
  {
   "cell_type": "code",
   "execution_count": 15,
   "metadata": {},
   "outputs": [
    {
     "data": {
      "image/png": "[encoded data removed]",
      "text/plain": [
       "<Figure size 432x288 with 1 Axes>"
      ]
     },
     "metadata": {
      "needs_background": "light"
     },
     "output_type": "display_data"
    }
   ],
   "source": [
    "df_train_known = df_train[df_train[col_name] != ' ?']\n",
    "labels_array = df_train_known[col_name]\n",
    "sns.countplot(labels_array, order=pd.value_counts(labels_array).iloc[1:10].index, data=df_train_known, hue='cash')\n",
    "plt.xticks(rotation=20, ha='right', fontsize=11)\n",
    "plt.savefig('without_us_nat_cntry.png')"
   ]
  },
  {
   "cell_type": "code",
   "execution_count": null,
   "metadata": {},
   "outputs": [],
   "source": [
    "# bar graph of countries\n",
    "sns.countplot(df_train_cpy1[col_name])"
   ]
  },
  {
   "cell_type": "code",
   "execution_count": null,
   "metadata": {},
   "outputs": [],
   "source": [
    "# create a copy of the original df_train\n",
    "df_train_cpy1 = df_train.copy(deep=True)\n",
    "\n",
    "nc_cond = [\n",
    "    (df_train_cpy1['native-country']==' United-States'),\n",
    "    (df_train_cpy1['native-country']==' ?'),\n",
    "    (df_train_cpy1['native-country']!=' United-States')\n",
    "    ]\n",
    "nc_vals = ['US', '?', 'Non-US']\n",
    "\n",
    "# create a new column and use np.select to assign values to it using our lists as arguments\n",
    "df_train_cpy1['nc_catgry'] = np.select(nc_cond, nc_vals)\n",
    "\n",
    "# display updated DataFrame\n",
    "df_train_cpy1.head(2)"
   ]
  },
  {
   "cell_type": "code",
   "execution_count": null,
   "metadata": {},
   "outputs": [],
   "source": [
    "# SELECT ONLY PEOPLE IN 'US'\n",
    "df_slct_nc = df_train_cpy1[df_train_cpy1['nc_catgry'] != 'UdwdwdS']\n",
    "sns.displot(df_slct_nc, x='cash')"
   ]
  },
  {
   "cell_type": "markdown",
   "metadata": {},
   "source": [
    "GROUP UP NATIVE-COUNTRIES INTO CONTINENTS"
   ]
  },
  {
   "cell_type": "code",
   "execution_count": null,
   "metadata": {},
   "outputs": [],
   "source": [
    "col_name = 'native-country'\n",
    "col_counts = df_train_cpy1[col_name].value_counts()\n",
    "col_counts_keys = col_counts.keys().tolist()\n",
    "col_counts_vals = col_counts.values.tolist()\n",
    "col_counts_keys.remove(' ?')"
   ]
  },
  {
   "cell_type": "code",
   "execution_count": null,
   "metadata": {},
   "outputs": [],
   "source": [
    "import pycountry_convert as pc\n",
    "\n",
    "tmp_list = []\n",
    "for cntry in col_counts_keys:\n",
    "    cntry_ = cntry[1:]\n",
    "    \n",
    "    if cntry_ in ['United-States', 'Puerto-Rico', 'El-Salvador', 'England', 'South', \n",
    "                  'Dominican-Republic', 'Columbia', 'Hong', 'Trinadad&Tobago', 'Yugoslavia', \n",
    "                  'Outlying-US(Guam-USVI-etc)', 'Scotland', 'Holand-Netherlands']:\n",
    "        continent_name = 'N/A'\n",
    "    else:\n",
    "        country_code = pc.country_name_to_country_alpha2(cntry_, cn_name_format=\"default\")\n",
    "        continent_name = pc.country_alpha2_to_continent_code(country_code)\n",
    "    \n",
    "    tmp_list.append(continent_name)\n",
    "print(tmp_list)"
   ]
  },
  {
   "cell_type": "code",
   "execution_count": null,
   "metadata": {},
   "outputs": [],
   "source": [
    "# create a dictionary mapping country to continent\n",
    "# col_counts_keys should not have ' ?' in it\n",
    "cont_map = {}\n",
    "for itr in range(len(tmp_list)):\n",
    "    cont_map[col_counts_keys[itr]] = tmp_list[itr]\n",
    "\n",
    "# fill in the N/A values manually\n",
    "na_vals_mapping = {\n",
    "    ' United-States': 'NA',\n",
    "    ' Puerto-Rico': 'NA',\n",
    "    ' El-Salvador': 'NA',\n",
    "    ' England': 'EU',\n",
    "    ' South': 'NA',  # not sure what south means\n",
    "    ' Dominican-Republic': 'NA',\n",
    "    ' Columbia': 'SA',\n",
    "    ' Hong': 'AS',\n",
    "    ' Trinadad&Tobago': 'SA',\n",
    "    ' Yugoslavia': 'EU',\n",
    "    ' Outlying-US(Guam-USVI-etc)': 'NA',\n",
    "    ' Scotland': 'EU',\n",
    "    ' Holand-Netherlands': 'EU'\n",
    "}\n",
    "for key in cont_map.keys():\n",
    "    if (cont_map[key] == 'N/A'):\n",
    "        cont_map[key] = na_vals_mapping[key]\n",
    "        \n",
    "cont_map"
   ]
  },
  {
   "cell_type": "code",
   "execution_count": null,
   "metadata": {},
   "outputs": [],
   "source": [
    "#df_train_cpy1[col_name]\n",
    "df_train_cpy1['continent'] = df_train_cpy1[col_name].map(cont_map)"
   ]
  },
  {
   "cell_type": "code",
   "execution_count": null,
   "metadata": {},
   "outputs": [],
   "source": [
    "col_name = 'continent'\n",
    "col_counts = df_train_cpy1[col_name].value_counts()\n",
    "#col_counts_keys = col_counts.keys().tolist()\n",
    "#col_counts_vals = col_counts.values.tolist()\n",
    "\n",
    "print('Column counts:\\n' + str(col_counts))\n",
    "#print('Minimum count: ' + str(min(col_counts_vals)))\n",
    "#print('Maximum count: ' + str(max(col_counts_vals)))\n",
    "#print(len(col_counts_keys))"
   ]
  },
  {
   "cell_type": "code",
   "execution_count": null,
   "metadata": {},
   "outputs": [],
   "source": [
    "# bar graph of continents\n",
    "sns.countplot(df_train_cpy1[col_name])"
   ]
  },
  {
   "cell_type": "markdown",
   "metadata": {},
   "source": [
    "OTHER INITIAL ANALYSIS WORK"
   ]
  },
  {
   "cell_type": "code",
   "execution_count": 16,
   "metadata": {},
   "outputs": [
    {
     "name": "stdout",
     "output_type": "stream",
     "text": [
      "[' Preschool', ' 1st-4th', ' 5th-6th', ' 7th-8th', ' 9th', ' 10th', ' 11th', ' 12th', ' HS-grad', ' Some-college', ' Assoc-voc', ' Assoc-acdm', ' Bachelors', ' Masters', ' Prof-school', ' Doctorate']\n"
     ]
    }
   ],
   "source": [
    "# relation between education number and education\n",
    "max_education_num = max(df_train['education-num'])\n",
    "education_num_values = [None]*max_education_num\n",
    "for itr in range(0, max_education_num):\n",
    "    education_num_values[itr] = df_train[df_train['education-num'] == itr+1].head(1)['education'].values[0]\n",
    "print(education_num_values)"
   ]
  },
  {
   "cell_type": "markdown",
   "metadata": {},
   "source": [
    "PIE CHART"
   ]
  },
  {
   "cell_type": "code",
   "execution_count": 56,
   "metadata": {},
   "outputs": [
    {
     "name": "stdout",
     "output_type": "stream",
     "text": [
      "Minimum count: 1\n",
      "Maximum count: 29170\n"
     ]
    },
    {
     "data": {
      "image/png": "[encoded data removed]",
      "text/plain": [
       "<Figure size 432x432 with 1 Axes>"
      ]
     },
     "metadata": {},
     "output_type": "display_data"
    }
   ],
   "source": [
    "col_name = 'native-country'\n",
    "col_counts = df_train[col_name].value_counts()\n",
    "col_counts_keys = col_counts.keys().tolist()\n",
    "col_counts_vals = col_counts.values.tolist()\n",
    "\n",
    "# uses education_num_values defined in pre-computation\n",
    "legend_str_list = [str(i)+\"-------\"+\"-------\"+str(j) for i, j in zip(col_counts_keys, col_counts_vals)]\n",
    "\n",
    "print('Minimum count: ' + str(min(col_counts)))\n",
    "print('Maximum count: ' + str(max(col_counts)))\n",
    "\n",
    "plt.figure(figsize=(6,6))\n",
    "plt.pie(col_counts_vals,\n",
    "        startangle=90,\n",
    "        counterclock=False,\n",
    "        radius=2,\n",
    "        colors=['#e41a1c','#4daf4a','#377eb8','#984ea3','#ff7f00',\n",
    "                '#ffff33','#a65628','#f781bf','#999999'],\n",
    "        textprops={'fontsize': 10})\n",
    "plt.axis('equal')\n",
    "plt.legend(legend_str_list, bbox_to_anchor=(1.5,1))\n",
    "plt.title(col_name+' Column Categories', fontsize = 20)\n",
    "plt.show()"
   ]
  },
  {
   "cell_type": "markdown",
   "metadata": {},
   "source": [
    "HISTOGRAM"
   ]
  },
  {
   "cell_type": "code",
   "execution_count": 18,
   "metadata": {},
   "outputs": [
    {
     "data": {
      "image/png": "[encoded data removed]",
      "text/plain": [
       "<Figure size 432x432 with 1 Axes>"
      ]
     },
     "metadata": {
      "needs_background": "light"
     },
     "output_type": "display_data"
    }
   ],
   "source": [
    "col_name = 'capital-loss'\n",
    "bins_val = 50\n",
    "\n",
    "plt.figure(figsize=(6,6))\n",
    "# removed zero values to get more insight on non-zero gains\n",
    "if (col_name == 'capital-gain' or col_name == 'capital-loss'):\n",
    "    df_train_no_zeros = df_train[df_train[col_name]!=0]    \n",
    "    plt.hist(df_train_no_zeros[col_name], bins=bins_val)\n",
    "else:\n",
    "    plt.hist(df_train[col_name], bins=bins_val)\n",
    "plt.show()"
   ]
  },
  {
   "cell_type": "markdown",
   "metadata": {},
   "source": [
    "FOCUS ON AGE AND SALARY RELATION"
   ]
  },
  {
   "cell_type": "code",
   "execution_count": 19,
   "metadata": {},
   "outputs": [
    {
     "data": {
      "text/plain": [
       "90"
      ]
     },
     "execution_count": 19,
     "metadata": {},
     "output_type": "execute_result"
    }
   ],
   "source": [
    "max(df_train['age'])"
   ]
  },
  {
   "cell_type": "code",
   "execution_count": 32,
   "metadata": {},
   "outputs": [
    {
     "data": {
      "text/html": [
       "<div>\n",
       "<style scoped>\n",
       "    .dataframe tbody tr th:only-of-type {\n",
       "        vertical-align: middle;\n",
       "    }\n",
       "\n",
       "    .dataframe tbody tr th {\n",
       "        vertical-align: top;\n",
       "    }\n",
       "\n",
       "    .dataframe thead th {\n",
       "        text-align: right;\n",
       "    }\n",
       "</style>\n",
       "<table border=\"1\" class=\"dataframe\">\n",
       "  <thead>\n",
       "    <tr style=\"text-align: right;\">\n",
       "      <th></th>\n",
       "      <th>age</th>\n",
       "      <th>workclass</th>\n",
       "      <th>fnlwgt</th>\n",
       "      <th>education</th>\n",
       "      <th>education-num</th>\n",
       "      <th>marital-status</th>\n",
       "      <th>occupation</th>\n",
       "      <th>relationship</th>\n",
       "      <th>race</th>\n",
       "      <th>sex</th>\n",
       "      <th>capital-gain</th>\n",
       "      <th>capital-loss</th>\n",
       "      <th>hours-per-week</th>\n",
       "      <th>native-country</th>\n",
       "      <th>cash</th>\n",
       "      <th>slry_bool</th>\n",
       "      <th>age_catgry</th>\n",
       "    </tr>\n",
       "  </thead>\n",
       "  <tbody>\n",
       "    <tr>\n",
       "      <th>0</th>\n",
       "      <td>39</td>\n",
       "      <td>State-gov</td>\n",
       "      <td>77516</td>\n",
       "      <td>Bachelors</td>\n",
       "      <td>13</td>\n",
       "      <td>Never-married</td>\n",
       "      <td>Adm-clerical</td>\n",
       "      <td>Not-in-family</td>\n",
       "      <td>White</td>\n",
       "      <td>Male</td>\n",
       "      <td>2174</td>\n",
       "      <td>0</td>\n",
       "      <td>40</td>\n",
       "      <td>United-States</td>\n",
       "      <td>&lt;=50K</td>\n",
       "      <td>0</td>\n",
       "      <td>Seniors</td>\n",
       "    </tr>\n",
       "    <tr>\n",
       "      <th>1</th>\n",
       "      <td>50</td>\n",
       "      <td>Self-emp-not-inc</td>\n",
       "      <td>83311</td>\n",
       "      <td>Bachelors</td>\n",
       "      <td>13</td>\n",
       "      <td>Married-civ-spouse</td>\n",
       "      <td>Exec-managerial</td>\n",
       "      <td>Husband</td>\n",
       "      <td>White</td>\n",
       "      <td>Male</td>\n",
       "      <td>0</td>\n",
       "      <td>0</td>\n",
       "      <td>13</td>\n",
       "      <td>United-States</td>\n",
       "      <td>&lt;=50K</td>\n",
       "      <td>0</td>\n",
       "      <td>Seniors</td>\n",
       "    </tr>\n",
       "  </tbody>\n",
       "</table>\n",
       "</div>"
      ],
      "text/plain": [
       "   age          workclass  fnlwgt   education  education-num  \\\n",
       "0   39          State-gov   77516   Bachelors             13   \n",
       "1   50   Self-emp-not-inc   83311   Bachelors             13   \n",
       "\n",
       "        marital-status        occupation    relationship    race    sex  \\\n",
       "0        Never-married      Adm-clerical   Not-in-family   White   Male   \n",
       "1   Married-civ-spouse   Exec-managerial         Husband   White   Male   \n",
       "\n",
       "   capital-gain  capital-loss  hours-per-week  native-country    cash  \\\n",
       "0          2174             0              40   United-States   <=50K   \n",
       "1             0             0              13   United-States   <=50K   \n",
       "\n",
       "   slry_bool age_catgry  \n",
       "0          0    Seniors  \n",
       "1          0    Seniors  "
      ]
     },
     "execution_count": 32,
     "metadata": {},
     "output_type": "execute_result"
    }
   ],
   "source": [
    "# create a copy of the original df_train\n",
    "#df_train_cpy = df_train.copy(deep=True)\n",
    "# AGE: less than 50 as 0 and greater than 50 as 1\n",
    "min_age = min(df_train['age'])\n",
    "max_age = max(df_train['age'])\n",
    "difference_point = 20\n",
    "age_cond = [\n",
    "    (df_train_cpy['age']>=min_age) & (df_train_cpy['age']<difference_point),\n",
    "    (df_train_cpy['age']>=difference_point) & (df_train_cpy['age']<max_age)\n",
    "    ]\n",
    "age_vals = ['Adults', 'Seniors']\n",
    "\n",
    "# create a new column and use np.select to assign values to it using our lists as arguments\n",
    "df_train_cpy['age_catgry'] = np.select(age_cond, age_vals)\n",
    "\n",
    "# display updated DataFrame\n",
    "df_train_cpy.head(2)"
   ]
  },
  {
   "cell_type": "code",
   "execution_count": 33,
   "metadata": {},
   "outputs": [
    {
     "name": "stdout",
     "output_type": "stream",
     "text": [
      "0    1655\n",
      "1       2\n",
      "Name: slry_bool, dtype: int64\n",
      "0    23030\n",
      "1     7831\n",
      "Name: slry_bool, dtype: int64\n"
     ]
    }
   ],
   "source": [
    "# counts of <=50k and >50k salary within each age category\n",
    "adlts_slry_dat = df_train_cpy[df_train_cpy['age_catgry']=='Adults']['slry_bool']\n",
    "snrs_slry_dat = df_train_cpy[df_train_cpy['age_catgry']=='Seniors']['slry_bool']\n",
    "\n",
    "print(adlts_slry_dat.value_counts())\n",
    "print(snrs_slry_dat.value_counts())"
   ]
  },
  {
   "cell_type": "code",
   "execution_count": 34,
   "metadata": {},
   "outputs": [
    {
     "data": {
      "text/plain": [
       "<matplotlib.axes._subplots.AxesSubplot at 0x1d268a0b820>"
      ]
     },
     "execution_count": 34,
     "metadata": {},
     "output_type": "execute_result"
    },
    {
     "data": {
      "image/png": "[encoded data removed]",
      "text/plain": [
       "<Figure size 720x432 with 1 Axes>"
      ]
     },
     "metadata": {
      "needs_background": "light"
     },
     "output_type": "display_data"
    }
   ],
   "source": [
    "plt.figure(figsize=(10,6))\n",
    "sns.countplot(x='age_catgry', hue='slry_bool', data=df_train_cpy)"
   ]
  },
  {
   "cell_type": "code",
   "execution_count": null,
   "metadata": {},
   "outputs": [],
   "source": []
  }
 ],
 "metadata": {
  "kernelspec": {
   "display_name": "Python 3",
   "language": "python",
   "name": "python3"
  },
  "language_info": {
   "codemirror_mode": {
    "name": "ipython",
    "version": 3
   },
   "file_extension": ".py",
   "mimetype": "text/x-python",
   "name": "python",
   "nbconvert_exporter": "python",
   "pygments_lexer": "ipython3",
   "version": "3.8.3"
  }
 },
 "nbformat": 4,
 "nbformat_minor": 4
}
