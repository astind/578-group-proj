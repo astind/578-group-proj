{
 "cells": [
  {
   "cell_type": "code",
   "execution_count": 55,
   "id": "80f20cb8",
   "metadata": {},
   "outputs": [],
   "source": [
    "# Imports for the file\n",
    "import numpy as np\n",
    "import pandas as pd\n",
    "import matplotlib.pyplot as plt\n",
    "\n",
    "from sklearn.datasets import load_wine\n",
    "from sklearn import tree\n",
    "from sklearn import svm"
   ]
  },
  {
   "cell_type": "code",
   "execution_count": 56,
   "id": "842b390a",
   "metadata": {},
   "outputs": [
    {
     "name": "stdout",
     "output_type": "stream",
     "text": [
      "['age', 'workclass', 'fnlwgt', 'education', 'education-num', 'marital-status', 'occupation', 'relationship', 'race', 'sex', 'capital-gain', 'capital-loss', 'hours-per-week', 'native-country']\n"
     ]
    }
   ],
   "source": [
    "# get and format the data\n",
    "names_file = 'data/adult.names'\n",
    "names = {}\n",
    "cols = []\n",
    "with open(names_file) as f:\n",
    "    for line in f:\n",
    "        if (line[0] != '|' and line[0] != '>'):\n",
    "            d_line = line.strip()\n",
    "            if (len(d_line)):\n",
    "                ldata = d_line[:-1].split(': ')\n",
    "                p_opt = []\n",
    "                for opt in ldata[1].split(', '):\n",
    "                    p_opt.append(opt)\n",
    "                names[ldata[0]] = p_opt\n",
    "                cols.append(ldata[0])\n",
    "                \n",
    "data_train = pd.read_csv('data/adult.data', index_col=False, names=cols)\n",
    "data_test = pd.read_csv('data/adult.test', index_col=False, names=cols)\n",
    "print(cols)\n",
    "data_train = data_train.astype({\n",
    "    'workclass': 'category',\n",
    "    'education': 'category',\n",
    "    'marital-status': 'category',\n",
    "    'occupation': 'category',\n",
    "    'relationship': 'category',\n",
    "    'race': 'category',\n",
    "    'sex': 'category',\n",
    "    'native-country': 'category'\n",
    "})\n",
    "data_test = data_test.astype({\n",
    "    'workclass': 'category',\n",
    "    'education': 'category',\n",
    "    'marital-status': 'category',\n",
    "    'occupation': 'category',\n",
    "    'relationship': 'category',\n",
    "    'race': 'category',\n",
    "    'sex': 'category',\n",
    "    'native-country': 'category'\n",
    "})"
   ]
  },
  {
   "cell_type": "code",
   "execution_count": 64,
   "id": "7302c270",
   "metadata": {},
   "outputs": [
    {
     "name": "stdout",
     "output_type": "stream",
     "text": [
      " Male      21790\n",
      " Female    10771\n",
      "Name: sex, dtype: int64\n"
     ]
    }
   ],
   "source": [
    "#start testing visualizations\n",
    "sums = data_train['sex'].value_counts()\n",
    "print(sums)\n"
   ]
  },
  {
   "cell_type": "code",
   "execution_count": null,
   "id": "dc0c7e72",
   "metadata": {},
   "outputs": [],
   "source": []
  }
 ],
 "metadata": {
  "kernelspec": {
   "display_name": "Python 3",
   "language": "python",
   "name": "python3"
  },
  "language_info": {
   "codemirror_mode": {
    "name": "ipython",
    "version": 3
   },
   "file_extension": ".py",
   "mimetype": "text/x-python",
   "name": "python",
   "nbconvert_exporter": "python",
   "pygments_lexer": "ipython3",
   "version": "3.8.5"
  }
 },
 "nbformat": 4,
 "nbformat_minor": 5
}
